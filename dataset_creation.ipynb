{
 "cells": [
  {
   "cell_type": "code",
   "execution_count": 1,
   "id": "fb2fda57-a348-4999-b401-a8e820ae32b1",
   "metadata": {},
   "outputs": [],
   "source": [
    "import os\n",
    "import pandas as pd\n",
    "import numpy as np\n",
    "from PIL import Image\n",
    "\n",
    "np.random.seed(42)"
   ]
  },
  {
   "cell_type": "code",
   "execution_count": 2,
   "id": "9a5a48e4-d380-4e53-8eaf-c5ad687b6111",
   "metadata": {},
   "outputs": [
    {
     "data": {
      "text/html": [
       "<div>\n",
       "<style scoped>\n",
       "    .dataframe tbody tr th:only-of-type {\n",
       "        vertical-align: middle;\n",
       "    }\n",
       "\n",
       "    .dataframe tbody tr th {\n",
       "        vertical-align: top;\n",
       "    }\n",
       "\n",
       "    .dataframe thead th {\n",
       "        text-align: right;\n",
       "    }\n",
       "</style>\n",
       "<table border=\"1\" class=\"dataframe\">\n",
       "  <thead>\n",
       "    <tr style=\"text-align: right;\">\n",
       "      <th></th>\n",
       "      <th>path</th>\n",
       "      <th>class</th>\n",
       "      <th>class_id</th>\n",
       "    </tr>\n",
       "  </thead>\n",
       "  <tbody>\n",
       "    <tr>\n",
       "      <th>0</th>\n",
       "      <td>apple_pie/23893.jpg</td>\n",
       "      <td>apple_pie</td>\n",
       "      <td>0</td>\n",
       "    </tr>\n",
       "    <tr>\n",
       "      <th>1</th>\n",
       "      <td>apple_pie/1348788.jpg</td>\n",
       "      <td>apple_pie</td>\n",
       "      <td>0</td>\n",
       "    </tr>\n",
       "    <tr>\n",
       "      <th>2</th>\n",
       "      <td>apple_pie/420768.jpg</td>\n",
       "      <td>apple_pie</td>\n",
       "      <td>0</td>\n",
       "    </tr>\n",
       "    <tr>\n",
       "      <th>3</th>\n",
       "      <td>apple_pie/1969851.jpg</td>\n",
       "      <td>apple_pie</td>\n",
       "      <td>0</td>\n",
       "    </tr>\n",
       "    <tr>\n",
       "      <th>4</th>\n",
       "      <td>apple_pie/1580276.jpg</td>\n",
       "      <td>apple_pie</td>\n",
       "      <td>0</td>\n",
       "    </tr>\n",
       "    <tr>\n",
       "      <th>...</th>\n",
       "      <td>...</td>\n",
       "      <td>...</td>\n",
       "      <td>...</td>\n",
       "    </tr>\n",
       "    <tr>\n",
       "      <th>23868</th>\n",
       "      <td>taquito/Taquito-Train (635).jpeg</td>\n",
       "      <td>taquito</td>\n",
       "      <td>33</td>\n",
       "    </tr>\n",
       "    <tr>\n",
       "      <th>23869</th>\n",
       "      <td>taquito/Taquito-Train (1235).jpeg</td>\n",
       "      <td>taquito</td>\n",
       "      <td>33</td>\n",
       "    </tr>\n",
       "    <tr>\n",
       "      <th>23870</th>\n",
       "      <td>taquito/Taquito-Train (664).jpeg</td>\n",
       "      <td>taquito</td>\n",
       "      <td>33</td>\n",
       "    </tr>\n",
       "    <tr>\n",
       "      <th>23871</th>\n",
       "      <td>taquito/Taquito-Train (7).jpeg</td>\n",
       "      <td>taquito</td>\n",
       "      <td>33</td>\n",
       "    </tr>\n",
       "    <tr>\n",
       "      <th>23872</th>\n",
       "      <td>taquito/Taquito-Train (1176).jpeg</td>\n",
       "      <td>taquito</td>\n",
       "      <td>33</td>\n",
       "    </tr>\n",
       "  </tbody>\n",
       "</table>\n",
       "<p>23873 rows × 3 columns</p>\n",
       "</div>"
      ],
      "text/plain": [
       "                                    path      class  class_id\n",
       "0                    apple_pie/23893.jpg  apple_pie         0\n",
       "1                  apple_pie/1348788.jpg  apple_pie         0\n",
       "2                   apple_pie/420768.jpg  apple_pie         0\n",
       "3                  apple_pie/1969851.jpg  apple_pie         0\n",
       "4                  apple_pie/1580276.jpg  apple_pie         0\n",
       "...                                  ...        ...       ...\n",
       "23868   taquito/Taquito-Train (635).jpeg    taquito        33\n",
       "23869  taquito/Taquito-Train (1235).jpeg    taquito        33\n",
       "23870   taquito/Taquito-Train (664).jpeg    taquito        33\n",
       "23871     taquito/Taquito-Train (7).jpeg    taquito        33\n",
       "23872  taquito/Taquito-Train (1176).jpeg    taquito        33\n",
       "\n",
       "[23873 rows x 3 columns]"
      ]
     },
     "execution_count": 2,
     "metadata": {},
     "output_type": "execute_result"
    }
   ],
   "source": [
    "df = pd.read_csv(\"food_cls/food_cls.csv\")\n",
    "df"
   ]
  },
  {
   "cell_type": "code",
   "execution_count": 3,
   "id": "39ab1630-7aaf-4b56-8f92-27c6892d2b17",
   "metadata": {},
   "outputs": [
    {
     "data": {
      "text/plain": [
       "class\n",
       "apple_pie         1000\n",
       "baked_potato      1500\n",
       "cheesecake        1000\n",
       "chicken_curry     1000\n",
       "crispy_chicken    1500\n",
       "donut             1500\n",
       "fries             1500\n",
       "hot_dog           1548\n",
       "ice_cream         1000\n",
       "omelette          1000\n",
       "sandwich          1500\n",
       "sushi             1000\n",
       "taco              1500\n",
       "taquito           1500\n",
       "Name: path, dtype: int64"
      ]
     },
     "execution_count": 3,
     "metadata": {},
     "output_type": "execute_result"
    }
   ],
   "source": [
    "freq = df.groupby(\"class\").count()[\"path\"]\n",
    "selected_freq = freq[freq >= 1000]\n",
    "selected_freq"
   ]
  },
  {
   "cell_type": "code",
   "execution_count": 4,
   "id": "ec3b7dee-99fb-4885-af8b-24fbc076ce16",
   "metadata": {},
   "outputs": [
    {
     "data": {
      "text/plain": [
       "['apple_pie',\n",
       " 'baked_potato',\n",
       " 'cheesecake',\n",
       " 'chicken_curry',\n",
       " 'crispy_chicken',\n",
       " 'donut',\n",
       " 'fries',\n",
       " 'hot_dog',\n",
       " 'ice_cream',\n",
       " 'omelette',\n",
       " 'sandwich',\n",
       " 'sushi',\n",
       " 'taco',\n",
       " 'taquito']"
      ]
     },
     "execution_count": 4,
     "metadata": {},
     "output_type": "execute_result"
    }
   ],
   "source": [
    "selected_classes = selected_freq.index.to_list()\n",
    "selected_classes"
   ]
  },
  {
   "cell_type": "markdown",
   "id": "c6c52387-7574-4c95-a229-95c6dae43ff3",
   "metadata": {},
   "source": [
    "# Split for training and validation"
   ]
  },
  {
   "cell_type": "markdown",
   "id": "5bc36313-4902-4c81-957a-6046543cc9bc",
   "metadata": {},
   "source": [
    "All classes has at least 1000 data. We pick 800 for training and 200 for validation per class"
   ]
  },
  {
   "cell_type": "code",
   "execution_count": 5,
   "id": "8824ae54-1f72-4dc6-a5a1-ec3e66aea12b",
   "metadata": {},
   "outputs": [],
   "source": [
    "# Config\n",
    "train_size = 800\n",
    "val_size = 200\n",
    "\n",
    "list_df_train = []\n",
    "list_df_val = []\n",
    "for cls in selected_classes:\n",
    "    df_sample = df[df[\"class\"] == cls].sample(train_size + val_size)\n",
    "    # since sample doesn't preserve the row order,\n",
    "    # we will just split it immediately,\n",
    "    # using iloc for position-based slicing\n",
    "    # instead of index-based \n",
    "    df_sample_train = df_sample.iloc[:train_size] \n",
    "    df_sample_val = df_sample.iloc[train_size:]\n",
    "    list_df_train.append(df_sample_train)\n",
    "    list_df_val.append(df_sample_val)\n",
    "\n",
    "df_train = pd.concat(list_df_train)\n",
    "df_val = pd.concat(list_df_val)\n",
    "\n",
    "df_train.to_csv(\"food_cls/train.csv\")\n",
    "df_val.to_csv(\"food_cls/val.csv\")"
   ]
  },
  {
   "cell_type": "markdown",
   "id": "501b2999-ed84-42a2-92ee-cd644f3a8d9d",
   "metadata": {},
   "source": [
    "# Creating imbalanced dataset"
   ]
  },
  {
   "cell_type": "code",
   "execution_count": 6,
   "id": "a8e2f061-7673-428f-a7ff-42eea620983c",
   "metadata": {},
   "outputs": [
    {
     "name": "stdout",
     "output_type": "stream",
     "text": [
      "Balanced classes:  ['apple_pie', 'baked_potato', 'cheesecake', 'chicken_curry', 'crispy_chicken', 'donut', 'fries', 'hot_dog', 'ice_cream', 'omelette']\n",
      "Imbalanced classes:  ['sandwich', 'sushi', 'taco']\n"
     ]
    }
   ],
   "source": [
    "balanced_classes = selected_classes[:10]\n",
    "imbalanced_classes = selected_classes[10:13]\n",
    "print(\"Balanced classes: \", balanced_classes)\n",
    "print(\"Imbalanced classes: \", imbalanced_classes)"
   ]
  },
  {
   "cell_type": "code",
   "execution_count": 7,
   "id": "c74c6ee4-d4e1-40d8-9d7f-64185eb02ba2",
   "metadata": {},
   "outputs": [],
   "source": [
    "# Config\n",
    "balanced_size = 800\n",
    "imbalanced_size = 400"
   ]
  },
  {
   "cell_type": "code",
   "execution_count": 8,
   "id": "a6b8e9eb-df92-446e-a3bf-abd14dd43da7",
   "metadata": {},
   "outputs": [
    {
     "data": {
      "text/plain": [
       "class\n",
       "apple_pie         800\n",
       "baked_potato      800\n",
       "cheesecake        800\n",
       "chicken_curry     800\n",
       "crispy_chicken    800\n",
       "donut             800\n",
       "fries             800\n",
       "hot_dog           800\n",
       "ice_cream         800\n",
       "omelette          800\n",
       "sandwich          400\n",
       "sushi             400\n",
       "taco              400\n",
       "Name: path, dtype: int64"
      ]
     },
     "execution_count": 8,
     "metadata": {},
     "output_type": "execute_result"
    }
   ],
   "source": [
    "list_df = []\n",
    "for cls in balanced_classes:\n",
    "    df_sample = df_train[df_train[\"class\"] == cls].sample(balanced_size)\n",
    "    list_df.append(df_sample)\n",
    "for cls in imbalanced_classes:\n",
    "    df_sample = df_train[df_train[\"class\"] == cls].sample(imbalanced_size)\n",
    "    list_df.append(df_sample)\n",
    "imbalanced_df = pd.concat(list_df)\n",
    "imbalanced_df.to_csv(\"food_cls/imbalanced.csv\")\n",
    "imbalanced_df.groupby(\"class\").count()[\"path\"]"
   ]
  },
  {
   "cell_type": "markdown",
   "id": "dfddc7d8-264d-4413-8c8b-622c80b09208",
   "metadata": {},
   "source": [
    "# Creating augmented dataset"
   ]
  },
  {
   "cell_type": "code",
   "execution_count": 9,
   "id": "53b352b8-404a-4412-98d1-f23b6d6e5c3b",
   "metadata": {},
   "outputs": [],
   "source": [
    "# Utility to generate and save horizontal flip\n",
    "def augment(input_path, output_path):\n",
    "    # Open the image\n",
    "    image = Image.open(input_path)\n",
    "\n",
    "    # Flip horizontally\n",
    "    flipped_image = image.transpose(Image.FLIP_LEFT_RIGHT)\n",
    "\n",
    "    # Save or display the flipped image\n",
    "    flipped_image.save(output_path)\n",
    "\n",
    "    # Close the image objects\n",
    "    image.close()\n",
    "    flipped_image.close()"
   ]
  },
  {
   "cell_type": "code",
   "execution_count": 10,
   "id": "75b3e0cd-6809-4aed-83a9-cb8ca1ba6a1f",
   "metadata": {},
   "outputs": [
    {
     "data": {
      "text/html": [
       "<div>\n",
       "<style scoped>\n",
       "    .dataframe tbody tr th:only-of-type {\n",
       "        vertical-align: middle;\n",
       "    }\n",
       "\n",
       "    .dataframe tbody tr th {\n",
       "        vertical-align: top;\n",
       "    }\n",
       "\n",
       "    .dataframe thead th {\n",
       "        text-align: right;\n",
       "    }\n",
       "</style>\n",
       "<table border=\"1\" class=\"dataframe\">\n",
       "  <thead>\n",
       "    <tr style=\"text-align: right;\">\n",
       "      <th></th>\n",
       "      <th>path</th>\n",
       "      <th>class</th>\n",
       "      <th>class_id</th>\n",
       "    </tr>\n",
       "  </thead>\n",
       "  <tbody>\n",
       "    <tr>\n",
       "      <th>923</th>\n",
       "      <td>apple_pie/750073.jpg</td>\n",
       "      <td>apple_pie</td>\n",
       "      <td>0</td>\n",
       "    </tr>\n",
       "    <tr>\n",
       "      <th>676</th>\n",
       "      <td>apple_pie/3333030.jpg</td>\n",
       "      <td>apple_pie</td>\n",
       "      <td>0</td>\n",
       "    </tr>\n",
       "    <tr>\n",
       "      <th>250</th>\n",
       "      <td>apple_pie/1617515.jpg</td>\n",
       "      <td>apple_pie</td>\n",
       "      <td>0</td>\n",
       "    </tr>\n",
       "    <tr>\n",
       "      <th>755</th>\n",
       "      <td>apple_pie/603113.jpg</td>\n",
       "      <td>apple_pie</td>\n",
       "      <td>0</td>\n",
       "    </tr>\n",
       "    <tr>\n",
       "      <th>495</th>\n",
       "      <td>apple_pie/2451702.jpg</td>\n",
       "      <td>apple_pie</td>\n",
       "      <td>0</td>\n",
       "    </tr>\n",
       "    <tr>\n",
       "      <th>...</th>\n",
       "      <td>...</td>\n",
       "      <td>...</td>\n",
       "      <td>...</td>\n",
       "    </tr>\n",
       "    <tr>\n",
       "      <th>22921</th>\n",
       "      <td>[flipped]/taquito/Taquito-Train (946).jpeg</td>\n",
       "      <td>taquito</td>\n",
       "      <td>33</td>\n",
       "    </tr>\n",
       "    <tr>\n",
       "      <th>22777</th>\n",
       "      <td>[flipped]/taquito/Taquito-Train (1189).jpeg</td>\n",
       "      <td>taquito</td>\n",
       "      <td>33</td>\n",
       "    </tr>\n",
       "    <tr>\n",
       "      <th>22782</th>\n",
       "      <td>[flipped]/taquito/Taquito-Train (480).jpeg</td>\n",
       "      <td>taquito</td>\n",
       "      <td>33</td>\n",
       "    </tr>\n",
       "    <tr>\n",
       "      <th>23734</th>\n",
       "      <td>[flipped]/taquito/Taquito-Train (15).jpeg</td>\n",
       "      <td>taquito</td>\n",
       "      <td>33</td>\n",
       "    </tr>\n",
       "    <tr>\n",
       "      <th>22607</th>\n",
       "      <td>[flipped]/taquito/Taquito-Train (110).jpeg</td>\n",
       "      <td>taquito</td>\n",
       "      <td>33</td>\n",
       "    </tr>\n",
       "  </tbody>\n",
       "</table>\n",
       "<p>11200 rows × 3 columns</p>\n",
       "</div>"
      ],
      "text/plain": [
       "                                              path      class  class_id\n",
       "923                           apple_pie/750073.jpg  apple_pie         0\n",
       "676                          apple_pie/3333030.jpg  apple_pie         0\n",
       "250                          apple_pie/1617515.jpg  apple_pie         0\n",
       "755                           apple_pie/603113.jpg  apple_pie         0\n",
       "495                          apple_pie/2451702.jpg  apple_pie         0\n",
       "...                                            ...        ...       ...\n",
       "22921   [flipped]/taquito/Taquito-Train (946).jpeg    taquito        33\n",
       "22777  [flipped]/taquito/Taquito-Train (1189).jpeg    taquito        33\n",
       "22782   [flipped]/taquito/Taquito-Train (480).jpeg    taquito        33\n",
       "23734    [flipped]/taquito/Taquito-Train (15).jpeg    taquito        33\n",
       "22607   [flipped]/taquito/Taquito-Train (110).jpeg    taquito        33\n",
       "\n",
       "[11200 rows x 3 columns]"
      ]
     },
     "execution_count": 10,
     "metadata": {},
     "output_type": "execute_result"
    }
   ],
   "source": [
    "# Config\n",
    "original_size = 400\n",
    "\n",
    "\n",
    "def augment_row(row):\n",
    "    new_path = os.path.join(\"[flipped]\", row)\n",
    "    input_path = os.path.join(\"food_cls\", row)\n",
    "    output_path = os.path.join(\"food_cls\", new_path)\n",
    "    os.makedirs(os.path.dirname(output_path), exist_ok=True)\n",
    "    augment(input_path, output_path)\n",
    "    return new_path\n",
    "\n",
    "\n",
    "list_df = []\n",
    "for cls in selected_classes:\n",
    "    df_sample = df_train[df_train[\"class\"] == cls].sample(original_size)\n",
    "    flipped_df_sample = df_sample.copy()\n",
    "    flipped_df_sample[\"path\"] = flipped_df_sample[\"path\"].apply(augment_row)\n",
    "    list_df += [df_sample, flipped_df_sample]\n",
    "\n",
    "df_augmented = pd.concat(list_df)\n",
    "df_augmented.to_csv(\"food_cls/augmented.csv\")\n",
    "df_augmented"
   ]
  }
 ],
 "metadata": {
  "kernelspec": {
   "display_name": "Python 3 (ipykernel)",
   "language": "python",
   "name": "python3"
  },
  "language_info": {
   "codemirror_mode": {
    "name": "ipython",
    "version": 3
   },
   "file_extension": ".py",
   "mimetype": "text/x-python",
   "name": "python",
   "nbconvert_exporter": "python",
   "pygments_lexer": "ipython3",
   "version": "3.10.10"
  }
 },
 "nbformat": 4,
 "nbformat_minor": 5
}
